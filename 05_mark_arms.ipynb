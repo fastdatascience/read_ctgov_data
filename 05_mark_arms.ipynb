{
 "cells": [
  {
   "cell_type": "code",
   "execution_count": 2,
   "metadata": {},
   "outputs": [],
   "source": [
    "PGHOST=\"localhost\"\n",
    "PGDATABASE=\"aact\"\n",
    "PGUSER=\"postgres\"\n",
    "PGPASSWORD=\"postgres\"\n"
   ]
  },
  {
   "cell_type": "code",
   "execution_count": 3,
   "metadata": {},
   "outputs": [],
   "source": [
    "import psycopg2\n",
    "import sys, os\n",
    "import numpy as np\n",
    "import pandas as pd\n",
    "import pandas.io.sql as psql\n",
    "import pickle as pkl"
   ]
  },
  {
   "cell_type": "code",
   "execution_count": 4,
   "metadata": {},
   "outputs": [],
   "source": [
    "conn_string = \"host=\"+ PGHOST +\" port=\"+ \"5432\" +\" dbname=\"+ PGDATABASE +\" user=\" + PGUSER \\\n",
    "+\" password=\"+ PGPASSWORD"
   ]
  },
  {
   "cell_type": "code",
   "execution_count": 5,
   "metadata": {},
   "outputs": [],
   "source": [
    "conn=psycopg2.connect(conn_string)\n"
   ]
  },
  {
   "cell_type": "code",
   "execution_count": 6,
   "metadata": {},
   "outputs": [],
   "source": [
    "cursor = conn.cursor()\n"
   ]
  },
  {
   "cell_type": "code",
   "execution_count": 7,
   "metadata": {},
   "outputs": [],
   "source": [
    "cursor.execute(\"select * from ctgov.studies;\")"
   ]
  },
  {
   "cell_type": "code",
   "execution_count": 8,
   "metadata": {},
   "outputs": [],
   "source": [
    "def load_data(schema, table):\n",
    "\n",
    "    \n",
    "    sql_command = \"SELECT * FROM {};\".format(str(table))\n",
    "    print (sql_command)\n",
    "\n",
    "    # Load the data\n",
    "    \n",
    "    data = pd.read_sql(sql_command, conn)\n",
    "\n",
    "    print(data.shape)\n",
    "    return (data)"
   ]
  },
  {
   "cell_type": "code",
   "execution_count": 9,
   "metadata": {},
   "outputs": [],
   "source": [
    "import os, sys, re, pandas as pd, numpy as np"
   ]
  },
  {
   "cell_type": "code",
   "execution_count": 11,
   "metadata": {},
   "outputs": [],
   "source": [
    "pd_arms = pd.read_sql(\"select nct_id, number_of_arms from ctgov.studies\", conn)"
   ]
  },
  {
   "cell_type": "code",
   "execution_count": 12,
   "metadata": {},
   "outputs": [],
   "source": [
    "pd_arms.set_index(\"nct_id\", inplace=True)"
   ]
  },
  {
   "cell_type": "code",
   "execution_count": 13,
   "metadata": {},
   "outputs": [
    {
     "data": {
      "text/html": [
       "<div>\n",
       "<style scoped>\n",
       "    .dataframe tbody tr th:only-of-type {\n",
       "        vertical-align: middle;\n",
       "    }\n",
       "\n",
       "    .dataframe tbody tr th {\n",
       "        vertical-align: top;\n",
       "    }\n",
       "\n",
       "    .dataframe thead th {\n",
       "        text-align: right;\n",
       "    }\n",
       "</style>\n",
       "<table border=\"1\" class=\"dataframe\">\n",
       "  <thead>\n",
       "    <tr style=\"text-align: right;\">\n",
       "      <th></th>\n",
       "      <th>number_of_arms</th>\n",
       "    </tr>\n",
       "    <tr>\n",
       "      <th>nct_id</th>\n",
       "      <th></th>\n",
       "    </tr>\n",
       "  </thead>\n",
       "  <tbody>\n",
       "    <tr>\n",
       "      <th>NCT02262806</th>\n",
       "      <td>1.0</td>\n",
       "    </tr>\n",
       "    <tr>\n",
       "      <th>NCT02261909</th>\n",
       "      <td>NaN</td>\n",
       "    </tr>\n",
       "    <tr>\n",
       "      <th>NCT03185507</th>\n",
       "      <td>2.0</td>\n",
       "    </tr>\n",
       "    <tr>\n",
       "      <th>NCT04086134</th>\n",
       "      <td>3.0</td>\n",
       "    </tr>\n",
       "    <tr>\n",
       "      <th>NCT02260362</th>\n",
       "      <td>NaN</td>\n",
       "    </tr>\n",
       "    <tr>\n",
       "      <th>...</th>\n",
       "      <td>...</td>\n",
       "    </tr>\n",
       "    <tr>\n",
       "      <th>NCT04086290</th>\n",
       "      <td>1.0</td>\n",
       "    </tr>\n",
       "    <tr>\n",
       "      <th>NCT04086264</th>\n",
       "      <td>4.0</td>\n",
       "    </tr>\n",
       "    <tr>\n",
       "      <th>NCT04086251</th>\n",
       "      <td>1.0</td>\n",
       "    </tr>\n",
       "    <tr>\n",
       "      <th>NCT02263274</th>\n",
       "      <td>1.0</td>\n",
       "    </tr>\n",
       "    <tr>\n",
       "      <th>NCT02262832</th>\n",
       "      <td>1.0</td>\n",
       "    </tr>\n",
       "  </tbody>\n",
       "</table>\n",
       "<p>432597 rows × 1 columns</p>\n",
       "</div>"
      ],
      "text/plain": [
       "             number_of_arms\n",
       "nct_id                     \n",
       "NCT02262806             1.0\n",
       "NCT02261909             NaN\n",
       "NCT03185507             2.0\n",
       "NCT04086134             3.0\n",
       "NCT02260362             NaN\n",
       "...                     ...\n",
       "NCT04086290             1.0\n",
       "NCT04086264             4.0\n",
       "NCT04086251             1.0\n",
       "NCT02263274             1.0\n",
       "NCT02262832             1.0\n",
       "\n",
       "[432597 rows x 1 columns]"
      ]
     },
     "execution_count": 13,
     "metadata": {},
     "output_type": "execute_result"
    }
   ],
   "source": [
    "pd_arms"
   ]
  },
  {
   "cell_type": "code",
   "execution_count": 15,
   "metadata": {},
   "outputs": [
    {
     "data": {
      "text/plain": [
       "number_of_arms\n",
       "2.0               169342\n",
       "1.0                79096\n",
       "3.0                34036\n",
       "4.0                16545\n",
       "5.0                 4180\n",
       "6.0                 3432\n",
       "8.0                 1029\n",
       "7.0                  984\n",
       "9.0                  493\n",
       "10.0                 381\n",
       "12.0                 252\n",
       "11.0                 167\n",
       "16.0                 105\n",
       "14.0                  93\n",
       "13.0                  81\n",
       "15.0                  68\n",
       "18.0                  46\n",
       "17.0                  32\n",
       "20.0                  22\n",
       "19.0                  16\n",
       "24.0                  15\n",
       "32.0                  15\n",
       "22.0                  10\n",
       "21.0                   8\n",
       "23.0                   7\n",
       "27.0                   6\n",
       "28.0                   5\n",
       "30.0                   4\n",
       "25.0                   3\n",
       "26.0                   3\n",
       "38.0                   2\n",
       "40.0                   2\n",
       "29.0                   2\n",
       "34.0                   1\n",
       "33.0                   1\n",
       "31.0                   1\n",
       "44.0                   1\n",
       "dtype: int64"
      ]
     },
     "execution_count": 15,
     "metadata": {},
     "output_type": "execute_result"
    }
   ],
   "source": [
    "pd_arms.value_counts()"
   ]
  },
  {
   "cell_type": "code",
   "execution_count": 14,
   "metadata": {},
   "outputs": [],
   "source": [
    "pd_arms.to_csv(\"annotations/num_arms.csv\")"
   ]
  },
  {
   "cell_type": "code",
   "execution_count": null,
   "metadata": {},
   "outputs": [],
   "source": []
  }
 ],
 "metadata": {
  "kernelspec": {
   "display_name": "Python 3 (ipykernel)",
   "language": "python",
   "name": "python3"
  },
  "language_info": {
   "codemirror_mode": {
    "name": "ipython",
    "version": 3
   },
   "file_extension": ".py",
   "mimetype": "text/x-python",
   "name": "python",
   "nbconvert_exporter": "python",
   "pygments_lexer": "ipython3",
   "version": "3.10.4"
  }
 },
 "nbformat": 4,
 "nbformat_minor": 2
}
