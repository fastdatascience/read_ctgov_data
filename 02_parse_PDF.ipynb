{
 "cells": [
  {
   "cell_type": "code",
   "execution_count": 13,
   "id": "81b4d9f9",
   "metadata": {},
   "outputs": [],
   "source": [
    "import base64\n",
    "import io\n",
    "\n",
    "from lxml import html\n",
    "from tika import parser\n",
    "\n",
    "\n",
    "def extract_text_from_pdf(file_path):\n",
    "    parsed = parser.from_file(file_path, xmlContent=True)\n",
    "    parsed_xml = parsed[\"content\"]\n",
    "\n",
    "    et = html.fromstring(parsed_xml)\n",
    "    pages = et.getchildren()[1].getchildren()\n",
    "\n",
    "    return [str(page.text_content()) for page in pages]\n"
   ]
  },
  {
   "cell_type": "code",
   "execution_count": 14,
   "id": "1c93db92",
   "metadata": {},
   "outputs": [],
   "source": [
    "INPUT_FOLDER = \"raw\"\n",
    "OUTPUT_FOLDER = \"json\""
   ]
  },
  {
   "cell_type": "code",
   "execution_count": 15,
   "id": "ae25cf7b",
   "metadata": {},
   "outputs": [],
   "source": [
    "import json"
   ]
  },
  {
   "cell_type": "code",
   "execution_count": 20,
   "id": "c37c16f2",
   "metadata": {},
   "outputs": [
    {
     "name": "stdout",
     "output_type": "stream",
     "text": [
      "raw/00_NCT01528800_SAP_000.pdf\n",
      "raw/00_NCT01731600_Prot_000.pdf\n",
      "raw/00_NCT01030900_ICF_001.pdf\n",
      "raw/00_NCT00006400_ICF_001.pdf\n",
      "raw/00_NCT01030900_Prot_SAP_000.pdf\n",
      "raw/00_NCT01670500_Prot_SAP_000.pdf\n",
      "raw/00_NCT01197300_SAP_001.pdf\n",
      "raw/00_NCT01532700_Prot_SAP_000.pdf\n",
      "raw/00_NCT01329900_Prot_SAP_000.pdf\n",
      "raw/00_NCT01557400_Prot_000.pdf\n",
      "raw/00_NCT00998400_Prot_SAP_000.pdf\n",
      "raw/00_NCT00553800_Prot_SAP_000.pdf\n",
      "raw/00_NCT01687400_Prot_SAP_000.pdf\n",
      "raw/00_NCT01212900_Prot_SAP_000.pdf\n",
      "raw/00_NCT00006400_Prot_SAP_000.pdf\n",
      "raw/00_NCT01197300_Prot_000.pdf\n",
      "raw/00_NCT00943800_Prot_SAP_000.pdf\n",
      "raw/00_NCT00150800_Prot_000.pdf\n",
      "raw/00_NCT00756600_Prot_SAP_000.pdf\n",
      "raw/00_NCT00150800_SAP_001.pdf\n",
      "raw/00_NCT01557400_SAP_001.pdf\n"
     ]
    }
   ],
   "source": [
    "for root, folder, files in os.walk(INPUT_FOLDER):\n",
    "    for file_name in files:\n",
    "        if not file_name.endswith(\"pdf\"):\n",
    "            continue\n",
    "        full_file = root + \"/\" + file_name\n",
    "        print(full_file)\n",
    "\n",
    "        try:\n",
    "            texts = extract_text_from_pdf(full_file)\n",
    "        except:\n",
    "            print (\"Error processing\", full_file, \". Skipping\")\n",
    "            continue\n",
    "            \n",
    "        if len(texts) < 10:\n",
    "            continue\n",
    "        if len(\" \".join(texts)) < 1000:\n",
    "            continue\n",
    "        \n",
    "        output_file = OUTPUT_FOLDER + \"/\" + file_name + \".json\"\n",
    "\n",
    "        with open(output_file, 'w', encoding=\"utf-8\") as fo:\n",
    "            fo.write(json.dumps(texts))"
   ]
  },
  {
   "cell_type": "code",
   "execution_count": null,
   "id": "59f5f5e1",
   "metadata": {},
   "outputs": [],
   "source": []
  }
 ],
 "metadata": {
  "kernelspec": {
   "display_name": "Python 3 (ipykernel)",
   "language": "python",
   "name": "python3"
  },
  "language_info": {
   "codemirror_mode": {
    "name": "ipython",
    "version": 3
   },
   "file_extension": ".py",
   "mimetype": "text/x-python",
   "name": "python",
   "nbconvert_exporter": "python",
   "pygments_lexer": "ipython3",
   "version": "3.10.4"
  }
 },
 "nbformat": 4,
 "nbformat_minor": 5
}
